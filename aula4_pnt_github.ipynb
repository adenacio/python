{
  "nbformat": 4,
  "nbformat_minor": 0,
  "metadata": {
    "colab": {
      "provenance": []
    },
    "kernelspec": {
      "name": "python3",
      "display_name": "Python 3"
    },
    "language_info": {
      "name": "python"
    }
  },
  "cells": [
    {
      "cell_type": "code",
      "execution_count": 10,
      "metadata": {
        "colab": {
          "base_uri": "https://localhost:8080/"
        },
        "id": "9D-qD5pAiS6F",
        "outputId": "ae00bf1e-5f69-41ec-92f7-7c7a3fe6c4dc"
      },
      "outputs": [
        {
          "output_type": "stream",
          "name": "stdout",
          "text": [
            "<class 'bool'>\n"
          ]
        }
      ],
      "source": [
        "  # ETE CICERO DIAS\n",
        "  # DOCENTE: CLOVES\n",
        "  # ESTUDANTE: WILLIAN\n",
        "  # print('willian)\n",
        "  # tipos primitivos de dados '''\n",
        "     # print('willian')\n",
        "\n",
        "c = False\n",
        "print(type(c))"
      ]
    }
  ]
}