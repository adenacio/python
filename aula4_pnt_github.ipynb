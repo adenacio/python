{
  "nbformat": 4,
  "nbformat_minor": 0,
  "metadata": {
    "colab": {
      "provenance": [],
      "authorship_tag": "ABX9TyM6HH/ViPsHfz/KACe1w+IX",
      "include_colab_link": true
    },
    "kernelspec": {
      "name": "python3",
      "display_name": "Python 3"
    },
    "language_info": {
      "name": "python"
    }
  },
  "cells": [
    {
      "cell_type": "markdown",
      "metadata": {
        "id": "view-in-github",
        "colab_type": "text"
      },
      "source": [
        "<a href=\"https://colab.research.google.com/github/adenacio/python/blob/main/aula4_pnt_github.ipynb\" target=\"_parent\"><img src=\"https://colab.research.google.com/assets/colab-badge.svg\" alt=\"Open In Colab\"/></a>"
      ]
    },
    {
      "cell_type": "code",
      "execution_count": null,
      "metadata": {
        "colab": {
          "base_uri": "https://localhost:8080/"
        },
        "id": "9D-qD5pAiS6F",
        "outputId": "ae00bf1e-5f69-41ec-92f7-7c7a3fe6c4dc"
      },
      "outputs": [
        {
          "output_type": "stream",
          "name": "stdout",
          "text": [
            "<class 'bool'>\n"
          ]
        }
      ],
      "source": [
        "  # ETE CICERO DIAS\n",
        "  # DOCENTE: CLOVES\n",
        "  # ESTUDANTE: WILLIAN\n",
        "  # print('willian)\n",
        "  # tipos primitivos de dados '''\n",
        "     # print('willian')\n",
        "\n",
        "c = False\n",
        "print(type(c))"
      ]
    }
  ]
}